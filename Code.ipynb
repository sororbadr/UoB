{
 "cells": [
  {
   "cell_type": "markdown",
   "metadata": {},
   "source": [
    "# Code for Formal report 2: Ballistics"
   ]
  },
  {
   "cell_type": "markdown",
   "metadata": {},
   "source": [
    "Integrating [6]"
   ]
  },
  {
   "cell_type": "code",
   "execution_count": 1,
   "metadata": {},
   "outputs": [
    {
     "data": {
      "text/latex": [
       "$\\displaystyle - uT \\left(\\frac{\\log{\\left(- uT \\right)}}{2} - \\frac{\\log{\\left(uT \\right)}}{2}\\right) + uT \\left(\\frac{\\log{\\left(- uT + vz \\right)}}{2} - \\frac{\\log{\\left(uT + vz \\right)}}{2}\\right)$"
      ],
      "text/plain": [
       "-uT*(log(-uT)/2 - log(uT)/2) + uT*(log(-uT + vz)/2 - log(uT + vz)/2)"
      ]
     },
     "execution_count": 1,
     "metadata": {},
     "output_type": "execute_result"
    }
   ],
   "source": [
    "import sympy as sy\n",
    "u, uT, vz = sy.symbols('u, uT, vz')\n",
    "sy.integrate((uT**(2))/(u**(2)-uT**(2)), (u, 0, vz))"
   ]
  },
  {
   "cell_type": "code",
   "execution_count": 2,
   "metadata": {},
   "outputs": [
    {
     "data": {
      "text/latex": [
       "$\\displaystyle \\frac{uT \\left(- \\log{\\left(- uT \\right)} + \\log{\\left(uT \\right)} + \\log{\\left(- uT + vz \\right)} - \\log{\\left(uT + vz \\right)}\\right)}{2}$"
      ],
      "text/plain": [
       "uT*(-log(-uT) + log(uT) + log(-uT + vz) - log(uT + vz))/2"
      ]
     },
     "execution_count": 2,
     "metadata": {},
     "output_type": "execute_result"
    }
   ],
   "source": [
    "sy.simplify(_)"
   ]
  },
  {
   "cell_type": "markdown",
   "metadata": {},
   "source": [
    "making $v_{z}$ the subject of the equation"
   ]
  },
  {
   "cell_type": "code",
   "execution_count": 3,
   "metadata": {},
   "outputs": [
    {
     "data": {
      "text/plain": [
       "[-uT*tanh(0.5*log(exp(2.0*gt))/uT)]"
      ]
     },
     "execution_count": 3,
     "metadata": {},
     "output_type": "execute_result"
    }
   ],
   "source": [
    "import sympy as sy\n",
    "u,uT,vz=sy.symbols('u,uT,vz')\n",
    "gt=sy.symbols('gt')\n",
    "eq=(1/2)*uT*sy.ln(uT-vz)-(1/2)*uT*sy.ln(uT+vz)-gt\n",
    "sy.solve(eq, vz)"
   ]
  },
  {
   "cell_type": "markdown",
   "metadata": {},
   "source": [
    "Integrating with respect to time"
   ]
  },
  {
   "cell_type": "code",
   "execution_count": 4,
   "metadata": {},
   "outputs": [
    {
     "data": {
      "text/latex": [
       "$\\displaystyle \\begin{cases} - uT \\left(t - \\frac{uT \\log{\\left(\\tanh{\\left(\\frac{g t}{uT} \\right)} + 1 \\right)}}{g}\\right) & \\text{for}\\: g > -\\infty \\wedge g < \\infty \\wedge g \\neq 0 \\\\0 & \\text{otherwise} \\end{cases}$"
      ],
      "text/plain": [
       "Piecewise((-uT*(t - uT*log(tanh(g*t/uT) + 1)/g), (g > -oo) & (g < oo) & Ne(g, 0)), (0, True))"
      ]
     },
     "execution_count": 4,
     "metadata": {},
     "output_type": "execute_result"
    }
   ],
   "source": [
    "import sympy as sy\n",
    "uT, g, t = sy.symbols('uT, g, t')\n",
    "sy.integrate(-1*uT*sy.tanh((g*t)/(uT)), (t, 0, t))"
   ]
  },
  {
   "cell_type": "markdown",
   "metadata": {},
   "source": [
    "This can be simplified into: $$z=z_{0} - \\frac{u_{T}^2}{g}ln cosh(\\frac{g}{u_{T}})(8)$$Where $z_{0}$ is the initial position of the cannonball."
   ]
  },
  {
   "cell_type": "markdown",
   "metadata": {},
   "source": [
    "Creating the graphs of velocity over time"
   ]
  },
  {
   "cell_type": "code",
   "execution_count": 5,
   "metadata": {},
   "outputs": [
    {
     "name": "stdout",
     "output_type": "stream",
     "text": [
      "-uT*tanh(g/uT)\n",
      "-uT*tanh(10*g/uT)\n",
      "-uT*tanh(50*g/uT)\n",
      "-uT*tanh(100*g/uT)\n"
     ]
    }
   ],
   "source": [
    "import sympy as sy\n",
    "\n",
    "uT, u, vz, g, t=sy.symbols('uT, u, vz, g,t')\n",
    "def f(t):\n",
    "    return -1*uT*sy.tanh((g*t)/(uT))\n",
    "\n",
    "print (f(1))\n",
    "print (f(10))\n",
    "print (f(50))\n",
    "print (f(100))"
   ]
  },
  {
   "cell_type": "code",
   "execution_count": 6,
   "metadata": {},
   "outputs": [
    {
     "data": {
      "text/plain": [
       "[<matplotlib.lines.Line2D at 0x7f26947ea110>]"
      ]
     },
     "execution_count": 6,
     "metadata": {},
     "output_type": "execute_result"
    },
    {
     "data": {
      "image/png": "[encoded data removed]",
      "text/plain": [
       "<Figure size 432x288 with 1 Axes>"
      ]
     },
     "metadata": {
      "needs_background": "light"
     },
     "output_type": "display_data"
    }
   ],
   "source": [
    "import matplotlib.pyplot as plt\n",
    "import numpy as np\n",
    "x=np.linspace(0, 40, 100)\n",
    "\n",
    "plt.plot(x, 1*np.tanh(10*x/1), label= \"uT=1\")\n",
    "plt.plot(x, 10*np.tanh(10*x/10), label = \"ut=10\")\n",
    "plt.plot(x, 50*np.tanh(10*x/50), label= \"uT=50\")\n",
    "plt.plot(x, 100*np.tanh(10*x/100), label = \"uT=100\")"
   ]
  },
  {
   "cell_type": "markdown",
   "metadata": {},
   "source": [
    "# Calculating the Effect of Drag on a Dropped Cannonball"
   ]
  },
  {
   "cell_type": "markdown",
   "metadata": {},
   "source": [
    "Finding the time it takes for the cannonball to drop under the effect of air resistance"
   ]
  },
  {
   "cell_type": "code",
   "execution_count": 8,
   "metadata": {},
   "outputs": [
    {
     "data": {
      "text/plain": [
       "[-10.8503850194839, 10.8503850194839]"
      ]
     },
     "execution_count": 8,
     "metadata": {},
     "output_type": "execute_result"
    }
   ],
   "source": [
    "import sympy as sy\n",
    "uT, z0, g, t =sy.symbols('uT,z0,g,t')\n",
    "g=10\n",
    "uT=100\n",
    "z0=500\n",
    "eq=z0-(uT**2/g)*sy.log(sy.cosh(g*t/uT))\n",
    "sy.solve(eq, t)"
   ]
  },
  {
   "cell_type": "markdown",
   "metadata": {},
   "source": [
    "Finding the time it takes for the cannonball to drop in free fall"
   ]
  },
  {
   "cell_type": "code",
   "execution_count": null,
   "metadata": {},
   "outputs": [],
   "source": [
    "import sympy as sy\n",
    "z0, g, t=sy.symbols('z0,g,t')\n",
    "g=10\n",
    "z0=500\n",
    "eq=(g*t**2)/2 -z0\n",
    "sy.solve(eq, t)"
   ]
  },
  {
   "cell_type": "markdown",
   "metadata": {},
   "source": [
    "## Section 2: Numerical Analysis on the Role of Drag\n",
    "## Part A: Numerical Study of the Role of Drag on a Dropped Cannonball"
   ]
  },
  {
   "cell_type": "markdown",
   "metadata": {},
   "source": [
    "Creating the graphs of t over Z and t over vZ"
   ]
  },
  {
   "cell_type": "code",
   "execution_count": 9,
   "metadata": {},
   "outputs": [
    {
     "data": {
      "text/plain": [
       "[<matplotlib.lines.Line2D at 0x7f269440a290>]"
      ]
     },
     "execution_count": 9,
     "metadata": {},
     "output_type": "execute_result"
    },
    {
     "data": {
      "image/png": "[encoded data removed]",
      "text/plain": [
       "<Figure size 432x288 with 1 Axes>"
      ]
     },
     "metadata": {
      "needs_background": "light"
     },
     "output_type": "display_data"
    },
    {
     "data": {
      "image/png": "[encoded data removed]",
      "text/plain": [
       "<Figure size 432x288 with 1 Axes>"
      ]
     },
     "metadata": {
      "needs_background": "light"
     },
     "output_type": "display_data"
    }
   ],
   "source": [
    "import numpy as np\n",
    "import matplotlib.pyplot as plt\n",
    "\n",
    "\n",
    "N=100\n",
    "t=10.85\n",
    "uT=100\n",
    "g=10\n",
    "dt=t/N\n",
    "\n",
    "t = np.arange(0, t ,dt)\n",
    "Z = np.zeros(N)\n",
    "Z[0]=500\n",
    "vZ = np.zeros(N)\n",
    "vZ[0]= 0\n",
    "\n",
    "for i in range(0,N-1):\n",
    "    Z[i+1]=Z[i]+dt*vZ[i]\n",
    "    vZ[i+1]=vZ[i]+dt*(-g-(g/uT**2)*np.sqrt(vZ[i]**(2))*vZ[i])\n",
    "plt.plot(t, Z)\n",
    "plt.xlabel('Z')\n",
    "plt.ylabel('t')\n",
    "plt.title('t over Z')\n",
    "plt.figure()\n",
    "plt.xlabel('vZ')\n",
    "plt.ylabel('t')\n",
    "plt.title('t over vZ')\n",
    "plt.plot(t, vZ)\n",
    "     \n",
    "         \n",
    "         \n"
   ]
  },
  {
   "cell_type": "markdown",
   "metadata": {},
   "source": [
    "Creating the \"dt over error\" graph"
   ]
  },
  {
   "cell_type": "code",
   "execution_count": 10,
   "metadata": {},
   "outputs": [
    {
     "data": {
      "image/png": "[encoded data removed]",
      "text/plain": [
       "<Figure size 432x288 with 1 Axes>"
      ]
     },
     "metadata": {
      "needs_background": "light"
     },
     "output_type": "display_data"
    }
   ],
   "source": [
    "import numpy as np\n",
    "import matplotlib.pyplot as plt\n",
    "t=10.85\n",
    "def f(N):\n",
    "    t=10.85\n",
    "    uT=100\n",
    "    g=10\n",
    "    dt=t/N\n",
    "    t = np.arange(0, t ,dt)\n",
    "    Z = np.zeros(N)\n",
    "    Z[0]=500\n",
    "    vZ = np.zeros(N)\n",
    "    vZ[0]= 0\n",
    "\n",
    "    for i in range(0,N-1):\n",
    "        Z[i+1]=Z[i]+dt*vZ[i]\n",
    "        vZ[i+1]=vZ[i]+dt*(-g-(g/uT**2)*np.sqrt(vZ[i]**(2))*vZ[i])\n",
    "    return Z[i-1]\n",
    "\n",
    "n=np.arange(100,1001,100)\n",
    "error=[f(n[0]),f(n[1]),f(n[2]),f(n[3]),f(n[4]),f(n[5]),f(n[6]),f(n[7]),f(n[8]),f(n[9])]\n",
    "plt.plot(t/n, error)\n",
    "plt.xlabel('error')\n",
    "plt.ylabel('dt')\n",
    "plt.show()"
   ]
  },
  {
   "cell_type": "markdown",
   "metadata": {},
   "source": [
    "# Part B:  Numerical Study of the Role of Drag on a Launched Cannonball\n",
    "## Introduction"
   ]
  },
  {
   "cell_type": "markdown",
   "metadata": {},
   "source": [
    "Finding time of flight and x distance"
   ]
  },
  {
   "cell_type": "code",
   "execution_count": 11,
   "metadata": {
    "scrolled": false
   },
   "outputs": [
    {
     "name": "stdout",
     "output_type": "stream",
     "text": [
      "15.0\n",
      "221.12850097807026\n"
     ]
    },
    {
     "data": {
      "text/plain": [
       "[<matplotlib.lines.Line2D at 0x7f269421f090>]"
      ]
     },
     "execution_count": 11,
     "metadata": {},
     "output_type": "execute_result"
    },
    {
     "data": {
      "image/png": "[encoded data removed]",
      "text/plain": [
       "<Figure size 432x288 with 1 Axes>"
      ]
     },
     "metadata": {
      "needs_background": "light"
     },
     "output_type": "display_data"
    },
    {
     "data": {
      "image/png": "[encoded data removed]",
      "text/plain": [
       "<Figure size 432x288 with 1 Axes>"
      ]
     },
     "metadata": {
      "needs_background": "light"
     },
     "output_type": "display_data"
    },
    {
     "data": {
      "image/png": "[encoded data removed]",
      "text/plain": [
       "<Figure size 432x288 with 1 Axes>"
      ]
     },
     "metadata": {
      "needs_background": "light"
     },
     "output_type": "display_data"
    }
   ],
   "source": [
    "import numpy as np\n",
    "\n",
    "N=100\n",
    "uT=100\n",
    "g=10\n",
    "t=20\n",
    "dt=t/N\n",
    "t = np.arange(0, t ,dt)\n",
    "vX=np.zeros(N)\n",
    "vX[0]=20\n",
    "vZ=np.zeros(N)\n",
    "vZ[0]=80\n",
    "Z=np.zeros(N)\n",
    "Z[0]=0\n",
    "X=np.zeros(N)\n",
    "X[0]=0\n",
    "\n",
    "for i in range(0,N-1):\n",
    "    vX[i+1]=vX[i]+dt*(-g/uT**2 *np.sqrt(vX[i]**2+vZ[i]**2)*vX[i])\n",
    "    vZ[i+1]=vZ[i]+dt*(-g-g/uT**2 *np.sqrt(vX[i]**2+vZ[i]**2)*vX[i])\n",
    "    Z[i+1]=Z[i]+dt*vZ[i]\n",
    "    X[i+1]=X[i]+dt*vX[i]\n",
    "    if Z[i+1]<0:\n",
    "        print(dt*i)\n",
    "        print(X[i+1])\n",
    "        break\n",
    "plt.plot(t, Z)\n",
    "plt.figure()\n",
    "plt.plot(t, X)\n",
    "plt.figure()\n",
    "plt.plot(X, Z)"
   ]
  },
  {
   "cell_type": "markdown",
   "metadata": {},
   "source": [
    "Attempting to plot X over Z"
   ]
  },
  {
   "cell_type": "code",
   "execution_count": null,
   "metadata": {},
   "outputs": [],
   "source": [
    "import numpy as np\n",
    "\n",
    "N=100\n",
    "uT=100\n",
    "g=10\n",
    "t=20\n",
    "dt=t/N\n",
    "t = np.arange(0, t ,dt)\n",
    "vX=np.zeros(N)\n",
    "vX[0]=500\n",
    "vZ=np.zeros(N)\n",
    "vZ[0]=1000\n",
    "Z=np.zeros(N)\n",
    "Z[0]=0\n",
    "X=np.zeros(N)\n",
    "X[0]=0\n",
    "\n",
    "for i in range(0,N-1):\n",
    "    vX[i+1]=vX[i]+dt*(-g/uT**2 *np.sqrt(vX[i]**2+vZ[i]**2)*vX[i])\n",
    "    vZ[i+1]=vZ[i]+dt*(-g-g/uT**2 *np.sqrt(vX[i]**2+vZ[i]**2)*vX[i])\n",
    "    Z[i+1]=Z[i]+dt*vZ[i]\n",
    "    X[i+1]=X[i]+dt*vX[i]\n",
    "    if Z[i+1]<0:\n",
    "        print(Z[i+1])\n",
    "        print(dt*i)\n",
    "        print(X[i+1])\n",
    "        break\n",
    "plt.plot(X, Z)"
   ]
  },
  {
   "cell_type": "markdown",
   "metadata": {},
   "source": [
    "## Part C:  Predict the Landing Point of a Cannonball"
   ]
  },
  {
   "cell_type": "markdown",
   "metadata": {},
   "source": [
    "Attempting to create the relevant graphs"
   ]
  },
  {
   "cell_type": "code",
   "execution_count": null,
   "metadata": {},
   "outputs": [],
   "source": [
    "import numpy as np\n",
    "import math\n",
    "\n",
    "N=6\n",
    "uT=100\n",
    "g=10\n",
    "t=200\n",
    "dt=t/N\n",
    "t = np.arange(0, t ,dt)\n",
    "vX=np.zeros(N)\n",
    "vX[0]=20\n",
    "vZ=np.zeros(N)\n",
    "vZ[0]=80\n",
    "vM1=vX/math.cos(0)\n",
    "vM2=vX/math.cos(math.pi/10)\n",
    "vM3=vX/math.cos(math.pi/5)\n",
    "vM4=vX/math.cos(3*math.pi/10)\n",
    "vM5=vX/math.cos(2*math.pi/5)\n",
    "vM6=vX/math.cos(math.pi/2)\n",
    "Z=np.zeros(N)\n",
    "Z[0]=0\n",
    "X=np.zeros(N)\n",
    "X[0]=0\n",
    "\n",
    "for i in range(0,N-1):\n",
    "    vZ[i+1]=vZ[i]+dt*(-g-g/uT**2 *np.sqrt(vX[i]**2+vZ[i]**2)*vX[i])\n",
    "    X[i+1]=X[i]+dt*vX[i]\n",
    "    if X[i+1]<0:\n",
    "        print(dt*i)\n",
    "        print(X[i+1])\n",
    "        break\n",
    "plt.plot(vM1, X)\n",
    "plt.plot(vM2, X)\n",
    "plt.plot(vM3, X)\n",
    "plt.plot(vM4, X)\n",
    "plt.plot(vM5, X)\n",
    "plt.plot(vM6, X)"
   ]
  },
  {
   "cell_type": "markdown",
   "metadata": {},
   "source": [
    "Attempting to find the angle $\\theta$"
   ]
  },
  {
   "cell_type": "code",
   "execution_count": null,
   "metadata": {},
   "outputs": [],
   "source": [
    "import sympy as sy\n",
    "import math\n",
    "j, vx = sy.symbols('j, vx')\n",
    "vz=20\n",
    "j=math.acos(vx/vz)\n",
    "sy.solve(j)"
   ]
  }
 ],
 "metadata": {
  "kernelspec": {
   "display_name": "Python 3",
   "language": "python",
   "name": "python3"
  },
  "language_info": {
   "codemirror_mode": {
    "name": "ipython",
    "version": 3
   },
   "file_extension": ".py",
   "mimetype": "text/x-python",
   "name": "python",
   "nbconvert_exporter": "python",
   "pygments_lexer": "ipython3",
   "version": "3.7.6"
  }
 },
 "nbformat": 4,
 "nbformat_minor": 4
}
